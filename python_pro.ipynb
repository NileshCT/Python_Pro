{
  "nbformat": 4,
  "nbformat_minor": 0,
  "metadata": {
    "colab": {
      "provenance": [],
      "authorship_tag": "ABX9TyPpvlFwMsBg7jeMoQYpjd1S",
      "include_colab_link": true
    },
    "kernelspec": {
      "name": "python3",
      "display_name": "Python 3"
    },
    "language_info": {
      "name": "python"
    }
  },
  "cells": [
    {
      "cell_type": "markdown",
      "metadata": {
        "id": "view-in-github",
        "colab_type": "text"
      },
      "source": [
        "<a href=\"https://colab.research.google.com/github/NileshCT/Hello-Nilesh/blob/main/python_pro.ipynb\" target=\"_parent\"><img src=\"https://colab.research.google.com/assets/colab-badge.svg\" alt=\"Open In Colab\"/></a>"
      ]
    },
    {
      "cell_type": "code",
      "execution_count": null,
      "metadata": {
        "colab": {
          "base_uri": "https://localhost:8080/"
        },
        "id": "jMEUh2uKqSIk",
        "outputId": "53d0bdd0-6e63-456b-9c09-25f7631ca6d2"
      },
      "outputs": [
        {
          "output_type": "stream",
          "name": "stdout",
          "text": [
            "age12\n",
            "age9\n",
            "age8\n",
            "a is olderest\n"
          ]
        }
      ],
      "source": [
        "##1.program to find oldest age amoung 3 person\n",
        "a=int(input(\"age\"))\n",
        "b=int(input(\"age\"))\n",
        "c=int(input(\"age\"))\n",
        "if a>b and a>c:\n",
        "  print(\"a is olderest\")\n",
        "if b>c and b>a:\n",
        "  print(\"b is oldest\")\n",
        "if c>a and c>b:\n",
        "  print(\"c is oldest\")"
      ]
    },
    {
      "cell_type": "code",
      "source": [
        "a=[10,20,30]"
      ],
      "metadata": {
        "id": "U09BBG90HZoD"
      },
      "execution_count": null,
      "outputs": []
    },
    {
      "cell_type": "code",
      "source": [
        "a=int(input(\"age\"))\n",
        "b=int(input(\"age\"))\n",
        "c=int(input(\"age\"))\n",
        "if a>b and a>c:\n",
        "  print(\"a\")\n",
        "elif b>a and b>c:\n",
        "  print(\"b\")\n",
        "else:\n",
        "  print(\"c\")"
      ],
      "metadata": {
        "colab": {
          "base_uri": "https://localhost:8080/"
        },
        "id": "Xs-nmaRzrLDB",
        "outputId": "126a5068-6c53-467c-ae60-d466ee0c324c"
      },
      "execution_count": null,
      "outputs": [
        {
          "output_type": "stream",
          "name": "stdout",
          "text": [
            "age12\n",
            "age56\n",
            "age34\n",
            "b\n"
          ]
        }
      ]
    },
    {
      "cell_type": "code",
      "source": [
        "a=[10,20,30]\n",
        "b=int(input(\"inter age\"))\n",
        "for i in a:\n",
        "  if i > b:\n",
        "    print(\"age in a is greater\")\n",
        "  else:\n",
        "    print(\"age in b is greater\")"
      ],
      "metadata": {
        "colab": {
          "base_uri": "https://localhost:8080/"
        },
        "id": "yG2NfVgg6rVH",
        "outputId": "deb215a7-4ad3-4248-9118-48a947045aac"
      },
      "execution_count": null,
      "outputs": [
        {
          "output_type": "stream",
          "name": "stdout",
          "text": [
            "inter age23\n",
            "age in b is greater\n",
            "age in b is greater\n",
            "age in a is greater\n"
          ]
        }
      ]
    },
    {
      "cell_type": "code",
      "source": [
        "# program to convert celcious to faraenheat\n",
        "a=int(input(\"\"))\n",
        "b=a*33.8\n",
        "print(b)"
      ],
      "metadata": {
        "colab": {
          "base_uri": "https://localhost:8080/"
        },
        "id": "kfDZ_jfJxKYR",
        "outputId": "da262884-fcfa-479b-aeac-43499b2d8d15"
      },
      "execution_count": null,
      "outputs": [
        {
          "output_type": "stream",
          "name": "stdout",
          "text": [
            "10\n",
            "338.0\n"
          ]
        }
      ]
    },
    {
      "cell_type": "code",
      "source": [
        "a=[10,20,30]\n",
        "for temp in a:\n",
        "  if temp==10:\n",
        "    y=(temp*1.8)+32\n",
        "    print(y)\n",
        "  \n",
        "  if temp==20:\n",
        "    x=(temp*1.8)+32\n",
        "    print(x)\n",
        "    \n",
        "  if temp==30:\n",
        "    z=(temp*1.8)+32\n",
        "    print(z)\n",
        "\n",
        "    "
      ],
      "metadata": {
        "colab": {
          "base_uri": "https://localhost:8080/"
        },
        "id": "_ifvEEEc5TDm",
        "outputId": "8f752115-5fe0-4896-8634-3fc5dbc0e93a"
      },
      "execution_count": null,
      "outputs": [
        {
          "output_type": "stream",
          "name": "stdout",
          "text": [
            "50.0\n",
            "68.0\n",
            "86.0\n"
          ]
        }
      ]
    },
    {
      "cell_type": "code",
      "source": [
        "import numpy as np\n",
        "\n",
        "a=[12,14,151,71,18]\n",
        "\n",
        "cel=np.array(a)\n",
        "print(cel)\n",
        "\n",
        "fer=(cel*1.8)+32\n",
        "print(fer)"
      ],
      "metadata": {
        "colab": {
          "base_uri": "https://localhost:8080/"
        },
        "id": "xSYghvXI-YJG",
        "outputId": "06cbe96d-0349-4039-99fe-2f1dfbcd8606"
      },
      "execution_count": null,
      "outputs": [
        {
          "output_type": "stream",
          "name": "stdout",
          "text": [
            "[ 12  14 151  71  18]\n",
            "[ 53.6  57.2 303.8 159.8  64.4]\n"
          ]
        }
      ]
    },
    {
      "cell_type": "code",
      "source": [
        "#program to find  the vowels from fiven words\n",
        "a=input(\"mention name \")\n",
        "vowels=\"aeiou\"\n",
        "for ele in a:\n",
        "  if ele in vowels:\n",
        "    print(ele) "
      ],
      "metadata": {
        "colab": {
          "base_uri": "https://localhost:8080/"
        },
        "id": "TwlN_xJJIKb_",
        "outputId": "ee16d1f1-8a0d-4a67-8a64-f1cfa5f64894"
      },
      "execution_count": null,
      "outputs": [
        {
          "output_type": "stream",
          "name": "stdout",
          "text": [
            "mention name nil\n",
            "i\n"
          ]
        }
      ]
    },
    {
      "cell_type": "code",
      "source": [],
      "metadata": {
        "id": "ACu8xLL7PMIJ"
      },
      "execution_count": null,
      "outputs": []
    },
    {
      "cell_type": "code",
      "source": [
        "a=input(\"mention name\")\n",
        "vowels='a','i','o','e','u',\n",
        "for ele in a:\n",
        "  if ele in vowels:\n",
        "    print(ele)"
      ],
      "metadata": {
        "colab": {
          "base_uri": "https://localhost:8080/"
        },
        "id": "2mlB5Q9mNemn",
        "outputId": "18d2470f-b889-453f-9d8e-c84d30893a97"
      },
      "execution_count": null,
      "outputs": [
        {
          "output_type": "stream",
          "name": "stdout",
          "text": [
            "mention namenil\n",
            "i\n"
          ]
        }
      ]
    },
    {
      "cell_type": "code",
      "source": [],
      "metadata": {
        "id": "0GwAGJJcNXjg"
      },
      "execution_count": null,
      "outputs": []
    },
    {
      "cell_type": "code",
      "source": [
        "#program to add two numbers\n",
        "a=int(input(\"1st number\"))\n",
        "b=int(input(\"2nd number\"))\n",
        "c=a+b\n",
        "print(\"addition of two number\",c)"
      ],
      "metadata": {
        "colab": {
          "base_uri": "https://localhost:8080/"
        },
        "id": "QwXb9E4bQkWJ",
        "outputId": "2227d3d7-10d1-47e9-e3ad-5515f74adcda"
      },
      "execution_count": null,
      "outputs": [
        {
          "output_type": "stream",
          "name": "stdout",
          "text": [
            "1st number12\n",
            "2nd number10\n",
            "addition of two number 22\n"
          ]
        }
      ]
    },
    {
      "cell_type": "code",
      "source": [
        "a=[12,13,11,10]\n",
        "b=[10,11,23,43]\n",
        "c=a+b\n",
        "print(c)\n",
        "# try this\n",
        "a=[12,13,11,10]\n",
        "b=[10,11,23,43]\n",
        "d=a.append(b)\n",
        "print(d)\n",
        "\n"
      ],
      "metadata": {
        "colab": {
          "base_uri": "https://localhost:8080/"
        },
        "id": "7wDYPcG-Q6Ry",
        "outputId": "e2dcbf6b-7a53-4027-a624-9e9bd3f9d570"
      },
      "execution_count": null,
      "outputs": [
        {
          "output_type": "stream",
          "name": "stdout",
          "text": [
            "[12, 13, 11, 10, 10, 11, 23, 43]\n",
            "None\n"
          ]
        }
      ]
    },
    {
      "cell_type": "code",
      "source": [
        "#program to find greater of two number\n",
        "a=int(input(\"\"))\n",
        "b=int(input(\"\"))\n",
        "if a>b:\n",
        "  print(a)\n",
        "if b>a:\n",
        "  print(\"b is greater\",b)"
      ],
      "metadata": {
        "id": "sKKL02uMT1GI"
      },
      "execution_count": null,
      "outputs": []
    },
    {
      "cell_type": "code",
      "source": [
        "#python program for factorial of number \n",
        "import math\n",
        "a=int(input(\"\"))\n",
        "d=math.factorial(a)\n",
        "print(d)"
      ],
      "metadata": {
        "colab": {
          "base_uri": "https://localhost:8080/"
        },
        "id": "xzfHBqrlRzdR",
        "outputId": "bb12cd92-a1ef-4b22-bc05-10c32c722f62"
      },
      "execution_count": null,
      "outputs": [
        {
          "output_type": "stream",
          "name": "stdout",
          "text": [
            "12\n",
            "479001600\n"
          ]
        }
      ]
    },
    {
      "cell_type": "code",
      "source": [
        "#program to find the simple interest\n",
        "p=int(input(\"\"))\n",
        "r=int(input(\"\"))\n",
        "t=int(input(\"\"))\n",
        "d=(p*r*t)/100\n",
        "print(d)"
      ],
      "metadata": {
        "colab": {
          "base_uri": "https://localhost:8080/"
        },
        "id": "83dZOlOlZsma",
        "outputId": "3eb19c6f-7dd5-476f-b3a5-1b3ccf62df46"
      },
      "execution_count": null,
      "outputs": [
        {
          "output_type": "stream",
          "name": "stdout",
          "text": [
            "10\n",
            "10\n",
            "12\n",
            "12.0\n"
          ]
        }
      ]
    },
    {
      "cell_type": "code",
      "source": [
        "count=1\n",
        "while count<=2:\n",
        "  p=int(input(\"\"))\n",
        "  r=int(input(\"\"))\n",
        "  t=int(input(\"\"))\n",
        "  d=(p*r*t)/100\n",
        "  print(\"si is as :\",d)\n",
        "  break\n",
        "  count+=1"
      ],
      "metadata": {
        "colab": {
          "base_uri": "https://localhost:8080/"
        },
        "id": "u2VwfWm5dudS",
        "outputId": "0aaa7e81-a85e-4b8b-f2bf-783c77e65772"
      },
      "execution_count": null,
      "outputs": [
        {
          "output_type": "stream",
          "name": "stdout",
          "text": [
            "10\n",
            "10\n",
            "12\n",
            "si is as : 12.0\n"
          ]
        }
      ]
    },
    {
      "cell_type": "code",
      "source": [
        "#program to find the compound interest\n",
        "def c_i(p,r,t):\n",
        "  p=int(input(\"\"))\n",
        "  r=int(input(\"\"))\n",
        "  t=int(input(\"\"))\n",
        "amount=p *(pow((1 + r/100),t)) \n",
        "ci=amount-p\n",
        "print(ci)\n"
      ],
      "metadata": {
        "colab": {
          "base_uri": "https://localhost:8080/"
        },
        "id": "ixvYBj_ljmta",
        "outputId": "1fb95bc9-27ea-4fab-9313-5b4228befdff"
      },
      "execution_count": null,
      "outputs": [
        {
          "output_type": "stream",
          "name": "stdout",
          "text": [
            "21.38428376721003\n"
          ]
        }
      ]
    },
    {
      "cell_type": "code",
      "source": [
        "#python program to decide weather given no. is armstrong number or not.\n",
        "n=153\n",
        "sum=0\n",
        "order=len(str(n))\n",
        "copy_n=n\n",
        "while n>0:\n",
        "  digit=n%10\n",
        "  sum=sum+digit**order\n",
        "  n=n//10\n",
        "if (sum==copy_n):\n",
        "  print(\"armstrong number\")\n",
        "else:\n",
        "  print(\"not arm strong number\")"
      ],
      "metadata": {
        "id": "HY3E6fFEo9NU",
        "outputId": "0e3225bd-2437-4699-e4e4-8f93e21c2bd8",
        "colab": {
          "base_uri": "https://localhost:8080/"
        }
      },
      "execution_count": null,
      "outputs": [
        {
          "output_type": "stream",
          "name": "stdout",
          "text": [
            "armstrong number\n"
          ]
        }
      ]
    },
    {
      "cell_type": "code",
      "source": [
        "#program to find area of circle\n",
        "import math\n",
        "math.pi\n",
        "r=int(input(\"\"))\n",
        "a=math.pi * r *r\n",
        "print(\"area of cicle\",a)"
      ],
      "metadata": {
        "id": "QCYheCbbuQxz",
        "outputId": "ec9443be-b8df-44a3-96a4-ffcf69d6bfa6",
        "colab": {
          "base_uri": "https://localhost:8080/"
        }
      },
      "execution_count": null,
      "outputs": [
        {
          "output_type": "stream",
          "name": "stdout",
          "text": [
            "10\n",
            "area of cicle 314.1592653589793\n"
          ]
        }
      ]
    },
    {
      "cell_type": "code",
      "source": [
        "#Python program to print all prime number from the interval\n",
        "n=int(input(\"\"))\n",
        "for i in range(2,n):\n",
        "  if n%i==0:\n",
        "    print(\"notprime\")\n",
        "    break\n",
        "  else:\n",
        "    print(\"prime ahe \")"
      ],
      "metadata": {
        "id": "J0bdhhO-u_Si",
        "outputId": "5259cd97-ec3c-492a-b515-534b2539bb7c",
        "colab": {
          "base_uri": "https://localhost:8080/"
        }
      },
      "execution_count": null,
      "outputs": [
        {
          "output_type": "stream",
          "name": "stdout",
          "text": [
            "6\n",
            "notprime\n"
          ]
        }
      ]
    },
    {
      "cell_type": "code",
      "source": [
        "n=int(input(\"\"))\n",
        "for i in range(2,n):\n",
        "  if n%i==0:\n",
        "    print(\"notprime\")\n",
        "    break\n",
        "  else:\n",
        "    print(\"prime ahe \")"
      ],
      "metadata": {
        "id": "_NBWT94n3mjX",
        "outputId": "46b30139-1704-4e32-e247-04bb93713324",
        "colab": {
          "base_uri": "https://localhost:8080/"
        }
      },
      "execution_count": null,
      "outputs": [
        {
          "output_type": "stream",
          "name": "stdout",
          "text": [
            "5\n",
            "prime ahe \n",
            "prime ahe \n",
            "prime ahe \n"
          ]
        }
      ]
    },
    {
      "cell_type": "code",
      "source": [
        "n=7\n",
        "for i in range(2,n):\n",
        "  if n%i==0:\n",
        "    print(\"not a prime number\")\n",
        "    break\n",
        "else:\n",
        "    print(\"prime number\")"
      ],
      "metadata": {
        "id": "he4TcF8IMKeB",
        "outputId": "3b01c963-1d6c-4ed5-d1a1-b927ec0d33b0",
        "colab": {
          "base_uri": "https://localhost:8080/"
        }
      },
      "execution_count": null,
      "outputs": [
        {
          "output_type": "stream",
          "name": "stdout",
          "text": [
            "prime number\n"
          ]
        }
      ]
    },
    {
      "cell_type": "code",
      "source": [],
      "metadata": {
        "id": "ZEat2CE3kWeC"
      },
      "execution_count": null,
      "outputs": []
    },
    {
      "cell_type": "code",
      "source": [
        "#write a program to check nth fibonasi number\n",
        "def fib(n):\n",
        "    a=0\n",
        "    b=1\n",
        "    print(a)\n",
        "    print(b)\n",
        "    for i in range(2,n):\n",
        "      c=a+b\n",
        "      a=b\n",
        "      b=c\n",
        "      print(c)\n",
        "fib(5)\n"
      ],
      "metadata": {
        "id": "kMfIFxf2NKGE",
        "outputId": "fb969ca4-8bf2-4721-95d1-e7659df94b91",
        "colab": {
          "base_uri": "https://localhost:8080/"
        }
      },
      "execution_count": null,
      "outputs": [
        {
          "output_type": "stream",
          "name": "stdout",
          "text": [
            "0\n",
            "1\n",
            "1\n",
            "2\n",
            "3\n"
          ]
        }
      ]
    },
    {
      "cell_type": "code",
      "source": [
        "#program to find the largest element in the list\n",
        "a=[10,20,30,40]\n",
        "for i in a:\n",
        "  if i>30:\n",
        "    print(\"largest number is :\",i)"
      ],
      "metadata": {
        "id": "AWku-QveJoV6",
        "outputId": "51fed844-4dd1-4343-c442-51fda9fb98fe",
        "colab": {
          "base_uri": "https://localhost:8080/"
        }
      },
      "execution_count": null,
      "outputs": [
        {
          "output_type": "stream",
          "name": "stdout",
          "text": [
            "largest number is : 40\n"
          ]
        }
      ]
    },
    {
      "cell_type": "code",
      "source": [
        "a=[10,20,30,40]\n",
        "i=10\n",
        "while i>10:\n",
        "  i=i+1\n",
        "  print(a)"
      ],
      "metadata": {
        "id": "LWnWJ8q3Kfcm"
      },
      "execution_count": null,
      "outputs": []
    },
    {
      "cell_type": "code",
      "source": [
        "a=[10,20,30,40,50]\n",
        "c=max(a)\n",
        "print(c)"
      ],
      "metadata": {
        "id": "5O-kswLDL6Vc",
        "outputId": "6b9b9fbf-fa65-4028-8f4e-8bcd45aa59a5",
        "colab": {
          "base_uri": "https://localhost:8080/"
        }
      },
      "execution_count": null,
      "outputs": [
        {
          "output_type": "stream",
          "name": "stdout",
          "text": [
            "50\n"
          ]
        }
      ]
    },
    {
      "cell_type": "code",
      "source": [
        "alist=[-45,0,3,10,90,5,-2,4,18,45,100,1,-266,706]\n",
        "largest=alist[0]\n",
        "for large in alist:\n",
        "    if large > largest:\n",
        "        largest=large\n",
        "print(largest)"
      ],
      "metadata": {
        "id": "uFWQW2WZMiG1",
        "outputId": "4785ad59-cb32-43fe-e113-06b395d7e460",
        "colab": {
          "base_uri": "https://localhost:8080/"
        }
      },
      "execution_count": null,
      "outputs": [
        {
          "output_type": "stream",
          "name": "stdout",
          "text": [
            "706\n"
          ]
        }
      ]
    },
    {
      "cell_type": "code",
      "source": [
        "l=[]\n",
        "n=int(input(\"length of list\"))\n",
        "for i in range(1,n+1):\n",
        "  e=int(input(\"element\"))\n",
        "  print(e)\n",
        "  l.append(e)\n",
        "  print(l)\n",
        "l.sort()\n",
        "print(l)\n",
        "print(l[n-1])\n"
      ],
      "metadata": {
        "id": "9YUAlBR5NG5P",
        "outputId": "22a10129-8419-4f5b-9cb8-04ecb149fc83",
        "colab": {
          "base_uri": "https://localhost:8080/"
        }
      },
      "execution_count": null,
      "outputs": [
        {
          "output_type": "stream",
          "name": "stdout",
          "text": [
            "length of list3\n",
            "element1\n",
            "1\n",
            "[1]\n",
            "element3\n",
            "3\n",
            "[1, 3]\n",
            "element2\n",
            "2\n",
            "[1, 3, 2]\n",
            "[1, 2, 3]\n",
            "3\n"
          ]
        }
      ]
    },
    {
      "cell_type": "code",
      "source": [],
      "metadata": {
        "id": "55HI1bcqSFTj"
      },
      "execution_count": null,
      "outputs": []
    },
    {
      "cell_type": "code",
      "source": [
        "#python program to interterchange 1st and last elemt in list\n",
        "a=[10,20,30]\n",
        "print(a)\n",
        "a[0]\n",
        "a[2] \n",
        "a[0],a[2]=a[2],a[0]\n",
        "print(a)\n",
        "\n",
        "\n",
        "\n"
      ],
      "metadata": {
        "id": "fnogMBbpUo7l",
        "outputId": "1f2e70e7-1519-4d8e-8093-8328b7e1fe37",
        "colab": {
          "base_uri": "https://localhost:8080/"
        }
      },
      "execution_count": null,
      "outputs": [
        {
          "output_type": "stream",
          "name": "stdout",
          "text": [
            "[10, 20, 30]\n",
            "[30, 20, 10]\n"
          ]
        }
      ]
    },
    {
      "cell_type": "code",
      "source": [
        "#python program to swap any two number in list\n",
        "a=[10,20,30,40]\n",
        "a[0]\n",
        "a[1]\n",
        "a[0],a[1]=a[1],a[0]\n",
        "print(a)"
      ],
      "metadata": {
        "id": "ISRNRm91cqQP",
        "outputId": "fe7ab36e-e51a-410f-fa0f-1ea595ed027a",
        "colab": {
          "base_uri": "https://localhost:8080/"
        }
      },
      "execution_count": null,
      "outputs": [
        {
          "output_type": "stream",
          "name": "stdout",
          "text": [
            "[20, 10, 30, 40]\n"
          ]
        }
      ]
    },
    {
      "cell_type": "code",
      "source": [
        "#program to find the number occurrance of elemt in list\n",
        "lst=list(input(\"\"))\n",
        "n=input(\" \")\n",
        "for i in lst:\n",
        "  if(n in lst)==True:\n",
        "    print(lst.count(n))\n",
        "    break\n",
        "  else:\n",
        "    print(n,\"no number is found in list\")"
      ],
      "metadata": {
        "id": "1wuwIGdVjkGq",
        "outputId": "f4fbce77-406b-49db-b500-e5128a5a4181",
        "colab": {
          "base_uri": "https://localhost:8080/"
        }
      },
      "execution_count": null,
      "outputs": [
        {
          "output_type": "stream",
          "name": "stdout",
          "text": [
            "1,2,3,4,1\n",
            " 1\n",
            "2\n"
          ]
        }
      ]
    },
    {
      "cell_type": "code",
      "source": [
        "lst=list(input(\"\"))\n",
        "n=int(input(\" \"))\n",
        "for i in lst:\n",
        "  if(n in lst)==True:\n",
        "    print(lst.count(n))\n",
        "    break\n",
        "  else:\n",
        "    print(n,\"no number is found in list\")"
      ],
      "metadata": {
        "id": "G6SMhnfZmPUe",
        "outputId": "9a3633e7-5c03-4cf9-996d-b31de6039c88",
        "colab": {
          "base_uri": "https://localhost:8080/"
        }
      },
      "execution_count": null,
      "outputs": [
        {
          "output_type": "stream",
          "name": "stdout",
          "text": [
            "1,2,3,4,1\n",
            " 1\n",
            "1 no number is found in list\n",
            "1 no number is found in list\n",
            "1 no number is found in list\n",
            "1 no number is found in list\n",
            "1 no number is found in list\n",
            "1 no number is found in list\n",
            "1 no number is found in list\n",
            "1 no number is found in list\n",
            "1 no number is found in list\n"
          ]
        }
      ]
    },
    {
      "cell_type": "code",
      "source": [
        "#program to generate sublist of list\n",
        "s=(\"nilesh thonte\")\n",
        "l=s.split()\n",
        "print(l)\n",
        "\n"
      ],
      "metadata": {
        "id": "Wpac7NPJ3WDj",
        "outputId": "31a25ade-a048-4dcb-a81f-37eef920cd41",
        "colab": {
          "base_uri": "https://localhost:8080/"
        }
      },
      "execution_count": null,
      "outputs": [
        {
          "output_type": "stream",
          "name": "stdout",
          "text": [
            "['nilesh', 'thonte']\n"
          ]
        }
      ]
    },
    {
      "cell_type": "code",
      "source": [
        "#program to checkcommon item from list\n",
        "a=[10,20,30,40]\n",
        "b=[40,30,50,60]\n",
        "print(set(a) & set(b))"
      ],
      "metadata": {
        "id": "e41-YQF58srD",
        "outputId": "dcf09e63-dc93-44f7-fd50-062f40ac8e6e",
        "colab": {
          "base_uri": "https://localhost:8080/"
        }
      },
      "execution_count": null,
      "outputs": [
        {
          "output_type": "stream",
          "name": "stdout",
          "text": [
            "{40, 30}\n"
          ]
        }
      ]
    },
    {
      "cell_type": "code",
      "source": [
        "#program to add three numbers\n",
        "#a=int(input(\"\"))\n",
        "#b=int(input(\"\"))\n",
        "#c=int(input(\"\"))\n",
        "#d=a+b+c\n",
        "#print(d)\n",
        "a=[12,12,12]\n",
        "for i in a:\n",
        "  print(i)\n",
        "d=a[0]+a[1]+a[2]\n",
        "print(d)"
      ],
      "metadata": {
        "id": "ddGjqL_8ksb4",
        "outputId": "e4daf882-2fd4-4918-e973-20d2240f78ce",
        "colab": {
          "base_uri": "https://localhost:8080/"
        }
      },
      "execution_count": null,
      "outputs": [
        {
          "output_type": "stream",
          "name": "stdout",
          "text": [
            "12\n",
            "12\n",
            "12\n",
            "36\n"
          ]
        }
      ]
    },
    {
      "cell_type": "code",
      "source": [
        "num_list=[]\n",
        "number=int(input(\"enter len of range\"))\n",
        "for i in range(1,number+1):\n",
        "    value = int(input(\"Please enter the Value of %d Element : \" %i))\n",
        "num_list.append(value)\n",
        "print(num_list)\n",
        "total=sum(num_list)\n",
        "print(total)\n",
        "\n"
      ],
      "metadata": {
        "id": "J3cVn7ECmUo6",
        "outputId": "0409cb6f-0931-4d3d-db45-ae4b5a506095",
        "colab": {
          "base_uri": "https://localhost:8080/"
        }
      },
      "execution_count": null,
      "outputs": [
        {
          "output_type": "stream",
          "name": "stdout",
          "text": [
            "enter len of range2\n",
            "Please enter the Value of 1 Element : 12\n",
            "Please enter the Value of 2 Element : 89\n",
            "[89]\n",
            "89\n"
          ]
        }
      ]
    },
    {
      "cell_type": "code",
      "source": [
        "#Write a program that will reverse a four digit number.Also it checks\n",
        "#whether the reverse is true\n",
        "a=(\"6565575\")\n",
        "d=a[::-1]\n",
        "print(d)\n",
        "#to check reverse is true\n"
      ],
      "metadata": {
        "id": "ZTORNaz3q19r",
        "outputId": "7c915633-df7f-491f-baf6-e05ac548c5de",
        "colab": {
          "base_uri": "https://localhost:8080/"
        }
      },
      "execution_count": null,
      "outputs": [
        {
          "output_type": "stream",
          "name": "stdout",
          "text": [
            "5755656\n"
          ]
        }
      ]
    },
    {
      "cell_type": "code",
      "source": [
        "#write a program that will tell whether the given year is a leap year\n",
        "#or not.\n",
        "year=int(input(\"enter a yyear\"))\n",
        "\n",
        "if year%4==0 and year%100!=0:\n",
        "  print(year,\"is leap year\")\n",
        "elif year%100:\n",
        "  print(year,\"is not leap year\")\n",
        "elif year%400:\n",
        "  print(year,\"is leap year\")\n",
        "else:\n",
        "  print(\"year is not leap year\")\n"
      ],
      "metadata": {
        "id": "lBdzg-jvtj1r",
        "outputId": "8b748281-9992-4d83-af28-0643db287a70",
        "colab": {
          "base_uri": "https://localhost:8080/"
        }
      },
      "execution_count": null,
      "outputs": [
        {
          "output_type": "stream",
          "name": "stdout",
          "text": [
            "enter a yyear2019\n",
            "2019 is not leap year\n"
          ]
        }
      ]
    },
    {
      "cell_type": "code",
      "source": [
        "#. Write a program to find the euclidean distance between two\n",
        "#coordinates.\n",
        "import numpy as np\n",
        "p1=np.array([1,3])\n",
        "p2=np.array([4,2])\n",
        "d=np.linalg.norm(p2-p1)\n",
        "print(d)"
      ],
      "metadata": {
        "id": "TAGn7nxgyYRo",
        "outputId": "2c34e363-277d-41e2-cdb8-77e856943e89",
        "colab": {
          "base_uri": "https://localhost:8080/"
        }
      },
      "execution_count": null,
      "outputs": [
        {
          "output_type": "stream",
          "name": "stdout",
          "text": [
            "3.1622776601683795\n"
          ]
        }
      ]
    },
    {
      "cell_type": "code",
      "source": [
        "#Write a program that take a user inputr of three angles and will\n",
        "#find out whether it can form a triangle or not.\n",
        "a=int(input(\"\"))\n",
        "b=int(input(\"\"))\n",
        "c=int(input(\"\"))\n",
        "d=a+b+c\n",
        "if d==180:\n",
        "  print(\"valid to form a triangle\")\n",
        "else:\n",
        "  print(\"not valid to form triangle\")\n"
      ],
      "metadata": {
        "id": "DvaDxgex3Wxz",
        "outputId": "028e4d9d-780e-4bec-f069-a0020e022c52",
        "colab": {
          "base_uri": "https://localhost:8080/"
        }
      },
      "execution_count": null,
      "outputs": [
        {
          "output_type": "stream",
          "name": "stdout",
          "text": [
            "100\n",
            "40\n",
            "40\n",
            "valid to form a triangle\n"
          ]
        }
      ]
    },
    {
      "cell_type": "code",
      "source": [
        "def Valid(a, b, c):\n",
        "  if((a+b+c==180) and a!=0 and b!=0 and c!=0):\n",
        "    return True\n",
        "  else:\n",
        "    return False\n",
        "if __name__ == \"__main__\":\n",
        "  a=int(input(\"\"))\n",
        "  b=int(input(\"\"))\n",
        "  c=int(input(\"\"))  \n",
        "  if(Valid(a,b,c)):\n",
        "    print(\"Valid\")\n",
        "  else:\n",
        "    print(\"invalid\")"
      ],
      "metadata": {
        "id": "bqMzg9MV6kzM",
        "outputId": "fdf2e420-c50a-488a-ce98-04e7f4509cb6",
        "colab": {
          "base_uri": "https://localhost:8080/"
        }
      },
      "execution_count": null,
      "outputs": [
        {
          "output_type": "stream",
          "name": "stdout",
          "text": [
            "100\n",
            "20\n",
            "39\n",
            "invalid\n"
          ]
        }
      ]
    },
    {
      "cell_type": "code",
      "source": [
        "#10. Write a program that will take user input of cost price and selling\n",
        "#price and determines whether its a loss or a profit\n",
        "cp=int(input(\"\"))\n",
        "sp=int(input(\"\"))\n",
        "profit=sp-cp\n",
        "print(profit)\n"
      ],
      "metadata": {
        "id": "ZJ0LkfrQCUVU",
        "outputId": "e98df016-7a46-4997-9c95-d66c14b89d29",
        "colab": {
          "base_uri": "https://localhost:8080/"
        }
      },
      "execution_count": null,
      "outputs": [
        {
          "output_type": "stream",
          "name": "stdout",
          "text": [
            "20\n",
            "30\n",
            "10\n"
          ]
        }
      ]
    },
    {
      "cell_type": "code",
      "source": [
        "def profit(cp,sp):\n",
        "  profit=(sp-cp)\n",
        "  return profit\n",
        "def loss(cp,sp):\n",
        "  loss=(cp-sp)\n",
        "  return loss\n",
        "if __name__==\"__main__\":\n",
        "  cp=1200\n",
        "  sp=2000\n",
        "  if(sp==cp):\n",
        "    print(\"no p and l\")\n",
        "  elif sp>cp:\n",
        "    print((profit(cp,sp),\"profit\"))\n",
        "  else:\n",
        "    print(loss(cp,sp),\"loss\")\n"
      ],
      "metadata": {
        "id": "JYoVgq6_F4aD",
        "outputId": "09402ca9-9b16-45e9-cd53-a8170b864d72",
        "colab": {
          "base_uri": "https://localhost:8080/"
        }
      },
      "execution_count": null,
      "outputs": [
        {
          "output_type": "stream",
          "name": "stdout",
          "text": [
            "(800, 'profit')\n"
          ]
        }
      ]
    },
    {
      "cell_type": "code",
      "source": [
        "#python program to find the volume of cyclinder \n",
        "import math\n",
        "math.pi\n",
        "r=int(input(\"mention radius\"))\n",
        "h=int(input(\"mention height\"))\n",
        "v=3.14*pow(r,2)*h\n",
        "print(v)\n",
        "# calculate the cost\n",
        "total_cost=v*40\n",
        "print(total_cost)"
      ],
      "metadata": {
        "colab": {
          "base_uri": "https://localhost:8080/"
        },
        "id": "E9j7t_EwWNHK",
        "outputId": "1ac0aa5e-390b-4aa5-d7bc-0f97fd988dcf"
      },
      "execution_count": null,
      "outputs": [
        {
          "output_type": "stream",
          "name": "stdout",
          "text": [
            "mention radius1\n",
            "mention height1\n",
            "3.14\n",
            "125.60000000000001\n"
          ]
        }
      ]
    },
    {
      "cell_type": "code",
      "source": [
        "#python program to calculate si with input value are given in program\n",
        "p=1000\n",
        "r=20\n",
        "t=3\n",
        "si=p*r*t/100\n",
        "print(si)"
      ],
      "metadata": {
        "colab": {
          "base_uri": "https://localhost:8080/"
        },
        "id": "tTVR9pvXXF1Z",
        "outputId": "74904024-f2ba-427a-d394-754b65bea63b"
      },
      "execution_count": null,
      "outputs": [
        {
          "output_type": "stream",
          "name": "stdout",
          "text": [
            "600.0\n"
          ]
        }
      ]
    },
    {
      "cell_type": "code",
      "source": [
        "#. Write a program that will tell whether the given number is divisible\n",
        "#by 3 & 6.\n",
        "a=int(input(\"\"))\n",
        "if a%3==0 and a%6==0:\n",
        "  print(\"number is ok\")\n",
        "else:\n",
        "  print(\"no. is not ok\")"
      ],
      "metadata": {
        "colab": {
          "base_uri": "https://localhost:8080/"
        },
        "id": "TNA8jvfuYDCx",
        "outputId": "7b66af57-8a14-45bb-be35-624ccc86f8f9"
      },
      "execution_count": null,
      "outputs": [
        {
          "output_type": "stream",
          "name": "stdout",
          "text": [
            "15\n",
            "no. is not ok\n"
          ]
        }
      ]
    },
    {
      "cell_type": "code",
      "source": [
        "#Write a program that will take three digits from the user and add\n",
        "#the square of each digit.\n",
        "a=int(input(\"\"))\n",
        "b=int(input(\"\"))\n",
        "c=int(input(\"\"))\n",
        "d=pow(a,2)\n",
        "e=pow(b,2)\n",
        "f=pow(c,2)\n",
        "g=d+e+f\n",
        "print(g)"
      ],
      "metadata": {
        "colab": {
          "base_uri": "https://localhost:8080/"
        },
        "id": "UqRQgXN2iUAW",
        "outputId": "2b3c83e4-16ce-4bdb-b0ef-e43ce4fccba9"
      },
      "execution_count": null,
      "outputs": [
        {
          "output_type": "stream",
          "name": "stdout",
          "text": [
            "10\n",
            "10\n",
            "10\n",
            "300\n"
          ]
        }
      ]
    },
    {
      "cell_type": "code",
      "source": [
        "# to check the given no. is armstrong or not\n",
        "a=int(input(\"\"))\n",
        "sum=0\n",
        "order=len(str(a))\n",
        "n_pow=a\n",
        "while a>0:\n",
        "  digit=a%10\n",
        "  sum+=digit**order\n",
        "  a=a//10\n",
        "if (sum==n_pow):\n",
        "  print(\"arm\")\n",
        "else:\n",
        "  print(\"not arm\")"
      ],
      "metadata": {
        "colab": {
          "base_uri": "https://localhost:8080/"
        },
        "id": "Oov6mcx7lM61",
        "outputId": "080d9b3f-e71f-43c1-b0e2-55ca54ae777b"
      },
      "execution_count": null,
      "outputs": [
        {
          "output_type": "stream",
          "name": "stdout",
          "text": [
            "153\n",
            "arm\n"
          ]
        }
      ]
    },
    {
      "cell_type": "code",
      "source": [
        "#. Write a program that will take user input of (4 digits number) and\n",
        "#check whether the number is narcissist number or not\n",
        "a=int(input(\"\"))\n",
        "sum=0\n",
        "order=len(str(a))\n",
        "npow=a\n",
        "while a>0:\n",
        "  digit=a%10\n",
        "  sum+=digit**order\n",
        "  a=a//10\n",
        "if(sum==npow):\n",
        "    print(\"narcissist\")\n",
        "else:\n",
        "    print(\"not\")\n"
      ],
      "metadata": {
        "colab": {
          "base_uri": "https://localhost:8080/"
        },
        "id": "4yydn-rDnZ6M",
        "outputId": "01f01dec-8f0c-4a20-af28-0ffda9713459"
      },
      "execution_count": null,
      "outputs": [
        {
          "output_type": "stream",
          "name": "stdout",
          "text": [
            "153\n",
            "narcissist\n"
          ]
        }
      ]
    },
    {
      "cell_type": "code",
      "source": [
        "#Write a program that will give you the in hand salary after\n",
        "#deduction of HRA(10%),DA(5%),PF(3%), and tax(if salary is between\n",
        "#5-10 lakh–10%),(11-20lakh–20%),(20< _ – 30%)(0-1lakh print k).\n",
        "\n",
        " \n",
        "def gross_sal(basic,grade):\n",
        "  hra=0.10 * basic\n",
        "  da=0.05 * basic\n",
        "  pf=0.03 * basic\n",
        "if grade =='A':\n",
        "  allowance=1400\n",
        "elif grade =='B':\n",
        "  allowance=1200\n",
        "else:\n",
        "  allowance=1000\n",
        "gross=round (basic+hra+da+allowance-pf)\n",
        "return gross\n",
        "if __name__==\"__main__\":\n",
        "  basic=1000\n",
        "  grade=\"a\"\n",
        "print(gross_sal(basic,grade))\n",
        "\n"
      ],
      "metadata": {
        "id": "F1GQ6bu1wVbR",
        "outputId": "51523e10-6545-40e0-e91c-eebed004d3c5",
        "colab": {
          "base_uri": "https://localhost:8080/",
          "height": 236
        }
      },
      "execution_count": null,
      "outputs": [
        {
          "output_type": "error",
          "ename": "NameError",
          "evalue": "ignored",
          "traceback": [
            "\u001b[0;31m---------------------------------------------------------------------------\u001b[0m",
            "\u001b[0;31mNameError\u001b[0m                                 Traceback (most recent call last)",
            "\u001b[0;32m<ipython-input-10-4b357373fdce>\u001b[0m in \u001b[0;36m<module>\u001b[0;34m\u001b[0m\n\u001b[1;32m      8\u001b[0m   \u001b[0mda\u001b[0m\u001b[0;34m=\u001b[0m\u001b[0;36m0.05\u001b[0m \u001b[0;34m*\u001b[0m \u001b[0mbasic\u001b[0m\u001b[0;34m\u001b[0m\u001b[0;34m\u001b[0m\u001b[0m\n\u001b[1;32m      9\u001b[0m   \u001b[0mpf\u001b[0m\u001b[0;34m=\u001b[0m\u001b[0;36m0.03\u001b[0m \u001b[0;34m*\u001b[0m \u001b[0mbasic\u001b[0m\u001b[0;34m\u001b[0m\u001b[0;34m\u001b[0m\u001b[0m\n\u001b[0;32m---> 10\u001b[0;31m \u001b[0;32mif\u001b[0m \u001b[0mgrade\u001b[0m \u001b[0;34m==\u001b[0m\u001b[0;34m'A'\u001b[0m\u001b[0;34m:\u001b[0m\u001b[0;34m\u001b[0m\u001b[0;34m\u001b[0m\u001b[0m\n\u001b[0m\u001b[1;32m     11\u001b[0m   \u001b[0mallowance\u001b[0m\u001b[0;34m=\u001b[0m\u001b[0;36m1400\u001b[0m\u001b[0;34m\u001b[0m\u001b[0;34m\u001b[0m\u001b[0m\n\u001b[1;32m     12\u001b[0m \u001b[0;32melif\u001b[0m \u001b[0mgrade\u001b[0m \u001b[0;34m==\u001b[0m\u001b[0;34m'B'\u001b[0m\u001b[0;34m:\u001b[0m\u001b[0;34m\u001b[0m\u001b[0;34m\u001b[0m\u001b[0m\n",
            "\u001b[0;31mNameError\u001b[0m: name 'grade' is not defined"
          ]
        }
      ]
    },
    {
      "cell_type": "code",
      "source": [
        "#Write a program that will tell the number of dogs and chicken are\n",
        "#there when the user will provide the value of total heads and legs.\n",
        "total_head=int(input(\"\"))\n",
        "total_legs=int(input(\"\"))\n",
        "if total_legs < total_head or total_legs==0 or total_legs % 2!=0:\n",
        "  print(\"invalid input\")\n",
        "else:\n",
        "  rabbits=(total_legs-(2 * total_head))/2\n",
        "  chicken=total_head - rabbits\n",
        "  print(\"no. of rabbits\"+str(rabbits))\n",
        "  print(\"no. of chicken\"+str(chicken))"
      ],
      "metadata": {
        "id": "xdWCLD-zK784",
        "outputId": "24e7f2ce-644d-4ace-8def-387703cfc5cc",
        "colab": {
          "base_uri": "https://localhost:8080/"
        }
      },
      "execution_count": null,
      "outputs": [
        {
          "output_type": "stream",
          "name": "stdout",
          "text": [
            "35\n",
            "94\n",
            "no. of rabbits12.0\n",
            "no. of chicken23.0\n"
          ]
        }
      ]
    },
    {
      "cell_type": "code",
      "source": [
        "#.Write a program that will swap numbers\n",
        "a=10\n",
        "b=34\n",
        "print(a)\n",
        "print(b)\n",
        "a,b = b,a\n",
        "print(a)\n",
        "print(b)"
      ],
      "metadata": {
        "id": "aNzwNIOINsj2",
        "outputId": "84ea9e33-1ac8-475d-a170-c37a183ad74a",
        "colab": {
          "base_uri": "https://localhost:8080/"
        }
      },
      "execution_count": null,
      "outputs": [
        {
          "output_type": "stream",
          "name": "stdout",
          "text": [
            "10\n",
            "34\n",
            "34\n",
            "10\n"
          ]
        }
      ]
    },
    {
      "cell_type": "code",
      "source": [
        "#write a program to find the sum of first n numbers, where n will be\n",
        "#provided by the user. Eg if the user provides n=10 the output should be\n",
        "#55.\n",
        "def findsum(n):\n",
        "  sum=0\n",
        "  x=1\n",
        "  while x<=n:\n",
        "    print(x)\n",
        "    sum+=x\n",
        "    x+=1\n",
        "  return sum\n",
        "n=10\n",
        "print(findsum(n))\n"
      ],
      "metadata": {
        "id": "jJzjNvxjPggu",
        "outputId": "5937627c-d511-430f-fce3-faacdb1e52f5",
        "colab": {
          "base_uri": "https://localhost:8080/"
        }
      },
      "execution_count": null,
      "outputs": [
        {
          "output_type": "stream",
          "name": "stdout",
          "text": [
            "1\n",
            "2\n",
            "3\n",
            "4\n",
            "5\n",
            "6\n",
            "7\n",
            "8\n",
            "9\n",
            "10\n",
            "55\n",
            "10\n",
            "1 11\n"
          ]
        }
      ]
    },
    {
      "cell_type": "code",
      "source": [
        "#write a program to find the sum of first n numbers, where n will be\n",
        "#provided by the user. Eg if the user provides n=10 the output should be\n",
        "#55.\n",
        "n=[1,2,3,4,5,6,7,8,9,10]\n",
        "sum=0\n",
        "i=0\n",
        "for i in n:\n",
        "  sum=sum+i\n",
        "i=i+1\n",
        "print(sum)\n",
        "print(i)\n"
      ],
      "metadata": {
        "colab": {
          "base_uri": "https://localhost:8080/"
        },
        "id": "tjgGKMkvNkRs",
        "outputId": "6c7a5e62-743f-41a9-9709-693010632db3"
      },
      "execution_count": null,
      "outputs": [
        {
          "output_type": "stream",
          "name": "stdout",
          "text": [
            "55\n",
            "11\n"
          ]
        }
      ]
    },
    {
      "cell_type": "code",
      "source": [
        "#python program to sum of sq of n natural number\n",
        "def sumsq(n):\n",
        "  sm=0\n",
        "  for i in range(1,n+1):\n",
        "    sm=sm+(i*i)\n",
        "    print(sm)\n",
        "  return sm\n",
        "n=3\n",
        "print(sumsq(n))\n"
      ],
      "metadata": {
        "id": "u8US1DLnUpEE",
        "outputId": "143a6b1a-38a3-4a8c-a1cd-8573c0451b33",
        "colab": {
          "base_uri": "https://localhost:8080/"
        }
      },
      "execution_count": null,
      "outputs": [
        {
          "output_type": "stream",
          "name": "stdout",
          "text": [
            "1\n",
            "5\n",
            "14\n",
            "14\n"
          ]
        }
      ]
    },
    {
      "cell_type": "code",
      "source": [
        "#25.Write a program that can multiply 2 numbers provided by the user\n",
        "#without using the * operator\n",
        "import math\n",
        "n=[10,2]\n",
        "product=math.prod(n)\n",
        "print(product)"
      ],
      "metadata": {
        "id": "656LMHoLR1Ot",
        "outputId": "0170fb6f-a02f-4eda-e685-52995ea189c9",
        "colab": {
          "base_uri": "https://localhost:8080/"
        }
      },
      "execution_count": null,
      "outputs": [
        {
          "output_type": "stream",
          "name": "stdout",
          "text": [
            "20\n"
          ]
        }
      ]
    },
    {
      "cell_type": "code",
      "source": [
        "import numpy\n",
        "n1=10\n",
        "n2=10\n",
        "c=numpy.prod(n1)\n",
        "print(c)\n"
      ],
      "metadata": {
        "id": "FoEXI5wBUu77",
        "outputId": "bdebabdc-1434-422f-ba65-4d4b7defcd4f",
        "colab": {
          "base_uri": "https://localhost:8080/"
        }
      },
      "execution_count": null,
      "outputs": [
        {
          "output_type": "stream",
          "name": "stdout",
          "text": [
            "10\n"
          ]
        }
      ]
    },
    {
      "cell_type": "code",
      "source": [
        "#26.Write a program that can find the factorial of a given number provided\n",
        "#by the user.\n",
        "n=5\n",
        "fact=1\n",
        "for i in range(1,n+1):\n",
        "  fact=fact*i\n",
        "  print(fact)"
      ],
      "metadata": {
        "id": "BvqijxVHWY5C",
        "outputId": "d597a963-21d0-4ff2-d085-bc636cf76afd",
        "colab": {
          "base_uri": "https://localhost:8080/"
        }
      },
      "execution_count": null,
      "outputs": [
        {
          "output_type": "stream",
          "name": "stdout",
          "text": [
            "1\n",
            "2\n",
            "6\n",
            "24\n",
            "120\n"
          ]
        }
      ]
    },
    {
      "cell_type": "code",
      "source": [
        "import math\n",
        "print(\"factorial of 5 is \", end=\"\")\n",
        "print(math.factorial(5))"
      ],
      "metadata": {
        "id": "8NT0jK1Pa6JZ",
        "outputId": "ed38f567-58f4-4bb6-86b5-14666797866d",
        "colab": {
          "base_uri": "https://localhost:8080/"
        }
      },
      "execution_count": null,
      "outputs": [
        {
          "output_type": "stream",
          "name": "stdout",
          "text": [
            "factorial of 5 is 120\n"
          ]
        }
      ]
    },
    {
      "cell_type": "code",
      "source": [
        "def factorial (n=5):\n",
        "  fact=1\n",
        "  while n>=1:\n",
        "    fact=fact*n\n",
        "    n=n-1\n",
        "  return fact"
      ],
      "metadata": {
        "id": "B7HYiixNbURi"
      },
      "execution_count": null,
      "outputs": []
    },
    {
      "cell_type": "code",
      "source": [
        "f= factorial()\n",
        "print(f)"
      ],
      "metadata": {
        "id": "Ch0FpkOKdpbB",
        "outputId": "69d8e5bc-0d16-421b-93c5-8302ab852154",
        "colab": {
          "base_uri": "https://localhost:8080/"
        }
      },
      "execution_count": null,
      "outputs": [
        {
          "output_type": "stream",
          "name": "stdout",
          "text": [
            "120\n"
          ]
        }
      ]
    },
    {
      "cell_type": "code",
      "source": [
        "#python program to find the number of digits in number\n",
        "a=2345\n",
        "print(a)\n",
        "digit=0\n",
        "digit=a//10\n",
        "print(digit)\n",
        "b=digit//10\n",
        "print(b)\n",
        "d=b//10\n",
        "print(d)\n",
        "c=d//10\n",
        "print(c)"
      ],
      "metadata": {
        "id": "6mXMTptb4bWa",
        "outputId": "b11536d2-8ae6-4881-a034-77e5c3bf5737",
        "colab": {
          "base_uri": "https://localhost:8080/"
        }
      },
      "execution_count": null,
      "outputs": [
        {
          "output_type": "stream",
          "name": "stdout",
          "text": [
            "2345\n",
            "234\n",
            "23\n",
            "2\n",
            "0\n"
          ]
        }
      ]
    },
    {
      "cell_type": "code",
      "source": [
        "number=int(input(\"given number is\"))\n",
        "count=0\n",
        "while number>0:\n",
        "  count+=1\n",
        "  number=int(number/10)\n",
        "print(count)\n"
      ],
      "metadata": {
        "id": "Sv6CU3gH6PWl",
        "outputId": "4062ee8b-5ed8-4eab-c2ea-addf422d6363",
        "colab": {
          "base_uri": "https://localhost:8080/"
        }
      },
      "execution_count": null,
      "outputs": [
        {
          "output_type": "stream",
          "name": "stdout",
          "text": [
            "given number is456\n",
            "3\n"
          ]
        }
      ]
    },
    {
      "cell_type": "code",
      "source": [
        "#.Print all factors of a given number provided by the user.\n",
        "number=int(input(\"enter a number\"))\n",
        "l=[]\n",
        "for i in range(1,number+1):\n",
        "  if number%i==0:\n",
        "    l.append(i)\n",
        "print(l)\n",
        "  \n"
      ],
      "metadata": {
        "id": "ykp62FG27eXe",
        "outputId": "39daaccd-8982-43da-f7aa-9f55c66bd69b",
        "colab": {
          "base_uri": "https://localhost:8080/"
        }
      },
      "execution_count": null,
      "outputs": [
        {
          "output_type": "stream",
          "name": "stdout",
          "text": [
            "enter a number36\n",
            "[1, 2, 3, 4, 6, 9, 12, 18, 36]\n"
          ]
        }
      ]
    },
    {
      "cell_type": "code",
      "source": [
        "#. Find the reverse of a number provided by the user(any number of digit)\n",
        "\n",
        "n=int(input(\"\"))\n",
        "rev=0\n",
        "while (n>0):\n",
        "  dig=n%10\n",
        "  rev=rev*10+dig\n",
        "  n=n//10\n",
        "  print(\"rev of number\",rev)"
      ],
      "metadata": {
        "id": "GgNOnWVGDYHZ",
        "outputId": "c8c4ca34-92b8-4239-b3e5-ab0084ccc7f4",
        "colab": {
          "base_uri": "https://localhost:8080/"
        }
      },
      "execution_count": null,
      "outputs": [
        {
          "output_type": "stream",
          "name": "stdout",
          "text": [
            "123\n",
            "rev of number 3\n",
            "rev of number 32\n",
            "rev of number 321\n"
          ]
        }
      ]
    },
    {
      "cell_type": "code",
      "source": [
        "#Write a program to print the following pattern\n",
        "# a program to print the following pattern\n",
        "# *\n",
        "# **\n",
        "# ***\n",
        "# ****\n",
        "# *****\n",
        "row=int(input(\"enter a row\"))\n",
        "for i in range(0,row):\n",
        "  for j in range(0,i+1):\n",
        "    print(\"*\",end=\"\")\n",
        "  print(\"\")"
      ],
      "metadata": {
        "id": "awsYWdSYCXvi",
        "outputId": "041b700a-d7f4-4395-d666-b05a9d66a2db",
        "colab": {
          "base_uri": "https://localhost:8080/"
        }
      },
      "execution_count": null,
      "outputs": [
        {
          "output_type": "stream",
          "name": "stdout",
          "text": [
            "enter a row5\n",
            "*\n",
            "**\n",
            "***\n",
            "****\n",
            "*****\n"
          ]
        }
      ]
    },
    {
      "cell_type": "code",
      "source": [
        "#Write a program to print the following pattern\n",
        "# *\n",
        "# **\n",
        "# ***\n",
        "# **\n",
        "# *\n",
        "row=int(input(\"\"))\n",
        "for i in range(row):\n",
        "  for j in range(i+1):\n",
        "    print(\"*\",end=\"\")\n",
        "  print(\"\")\n",
        "for i in range(row):\n",
        "  for j in range(row-i-1):\n",
        "    print(\"*\",end=\"\")\n",
        "  print(\"\")\n",
        "\n"
      ],
      "metadata": {
        "id": "5fm0aiW5H7Wi",
        "outputId": "f23a2363-b5e4-4de5-d4e6-b04f92a235b2",
        "colab": {
          "base_uri": "https://localhost:8080/"
        }
      },
      "execution_count": null,
      "outputs": [
        {
          "output_type": "stream",
          "name": "stdout",
          "text": [
            "5\n",
            "*\n",
            "**\n",
            "***\n",
            "****\n",
            "*****\n",
            "****\n",
            "***\n",
            "**\n",
            "*\n",
            "\n"
          ]
        }
      ]
    },
    {
      "cell_type": "code",
      "source": [
        "#.Write a program to print the following pattern\n",
        "           \n",
        "# *\n",
        "# * * *\n",
        "# * * * * *\n",
        "# * * * * * * *\n",
        "# * * * * * * * * *"
      ],
      "metadata": {
        "id": "_YViFTl1NEzK"
      },
      "execution_count": null,
      "outputs": []
    },
    {
      "cell_type": "code",
      "source": [
        "row=int(input(\"\"))\n",
        "for i in range(row):\n",
        "  for j in range(0,i+1):\n",
        "    print(\"* \",end=\"\")\n",
        "  print(\"\")"
      ],
      "metadata": {
        "id": "4cxnqHJRNRyh",
        "outputId": "5c9a3c10-54f7-4dc4-c7f9-ef4af7a58d8b",
        "colab": {
          "base_uri": "https://localhost:8080/"
        }
      },
      "execution_count": null,
      "outputs": [
        {
          "output_type": "stream",
          "name": "stdout",
          "text": [
            "5\n",
            "* \n",
            "* * \n",
            "* * * \n",
            "* * * * \n",
            "* * * * * \n"
          ]
        }
      ]
    },
    {
      "cell_type": "code",
      "source": [
        "row=int(input(\"\"))\n",
        "for i in range(row):\n",
        "  for j in range(i+1):\n",
        "    print(\"\",end=\"\")\n",
        "  print(\"\")\n",
        "  for k in range(2*i+1):\n",
        "    print(k+1,end=\"\")\n",
        "  print(\"\")"
      ],
      "metadata": {
        "id": "mRbPVi1STIZj"
      },
      "execution_count": null,
      "outputs": []
    },
    {
      "cell_type": "code",
      "source": [
        "#Write a program that can check whether a given string is palindrome or\n",
        "#not\n",
        "name=input(\"write a string\")\n",
        "rev=name[::-1]\n",
        "if rev==name:\n",
        "  print(\"given string is palandrome\")\n",
        "else:\n",
        "  print(\"not a palanadrom\")\n",
        "print(name)"
      ],
      "metadata": {
        "id": "26fPqreyL4Iz",
        "outputId": "770d7863-98fc-462f-ad04-ee5d911236b1",
        "colab": {
          "base_uri": "https://localhost:8080/"
        }
      },
      "execution_count": null,
      "outputs": [
        {
          "output_type": "stream",
          "name": "stdout",
          "text": [
            "write a stringnil\n",
            "not a palanadrom\n",
            "nil\n"
          ]
        }
      ]
    },
    {
      "cell_type": "code",
      "source": [
        "#.Write a program which can remove a particular character from a string.\n",
        "name=\"nilesh\"\n",
        "new_string=name.replace(\"i\",\"\")\n",
        "print(new_string)"
      ],
      "metadata": {
        "id": "BXTmlRmvPG8L",
        "outputId": "d5cc2b1d-8451-4f64-f108-4219dd7d4677",
        "colab": {
          "base_uri": "https://localhost:8080/"
        }
      },
      "execution_count": null,
      "outputs": [
        {
          "output_type": "stream",
          "name": "stdout",
          "text": [
            "nlesh\n"
          ]
        }
      ]
    },
    {
      "cell_type": "code",
      "source": [],
      "metadata": {
        "id": "zDVn1CdQXf7a"
      },
      "execution_count": null,
      "outputs": []
    },
    {
      "cell_type": "code",
      "source": [
        "name=\"nilesh thonte\"\n",
        "for char in \"tn\":\n",
        "  new_string=name.replace(char,\"\")\n",
        "print(new_string)"
      ],
      "metadata": {
        "id": "lrU4v5wqXZ17",
        "outputId": "71228955-557a-46f8-92b2-8f5f39e0a36c",
        "colab": {
          "base_uri": "https://localhost:8080/"
        }
      },
      "execution_count": null,
      "outputs": [
        {
          "output_type": "stream",
          "name": "stdout",
          "text": [
            "ilesh thote\n"
          ]
        }
      ]
    },
    {
      "cell_type": "code",
      "source": [
        "#.Count the number of vowels in a string provided by the user.\n",
        "name=\"nilesh thonte\"\n",
        "vowels=[\"a\",\"e\",\"i\",\"o\",\"u\"]\n",
        "list1=[]\n",
        "for x in name:\n",
        "  if (x in vowels and x not in list1):\n",
        "    list1.append(x)\n",
        "print(list1)\n"
      ],
      "metadata": {
        "id": "Y60xGykBZSwa",
        "outputId": "937d932f-8472-44b9-b117-59c972546346",
        "colab": {
          "base_uri": "https://localhost:8080/"
        }
      },
      "execution_count": null,
      "outputs": [
        {
          "output_type": "stream",
          "name": "stdout",
          "text": [
            "['i', 'e', 'o']\n"
          ]
        }
      ]
    },
    {
      "cell_type": "code",
      "source": [
        "str=input(\"mention your string\")\n",
        "vow=0\n",
        "for i in str:\n",
        "  if (i==\"a\" or i==\"e\"or i==\"i\"or i==\"o\"or i==\"u\"):\n",
        "    vow+=1\n",
        "print(vow)"
      ],
      "metadata": {
        "id": "vYEwDkO0eFFi",
        "outputId": "b838a826-0af4-42aa-f4a4-cf67787d10c3",
        "colab": {
          "base_uri": "https://localhost:8080/"
        }
      },
      "execution_count": null,
      "outputs": [
        {
          "output_type": "stream",
          "name": "stdout",
          "text": [
            "mention your stringnilesh thonte\n",
            "4\n"
          ]
        }
      ]
    },
    {
      "cell_type": "code",
      "source": [
        "#.Count the number of vowels in a string provided by the user.\n",
        "name=\"nilesh thonte\"\n",
        "name.index(\"t\")\n"
      ],
      "metadata": {
        "id": "9KyXOLZ7f4fx",
        "outputId": "efd7ee28-4206-4bed-ae65-e1c70a74d9d2",
        "colab": {
          "base_uri": "https://localhost:8080/"
        }
      },
      "execution_count": null,
      "outputs": [
        {
          "output_type": "execute_result",
          "data": {
            "text/plain": [
              "7"
            ]
          },
          "metadata": {},
          "execution_count": 43
        }
      ]
    },
    {
      "cell_type": "code",
      "source": [
        "name=\"nilesh thonte\"\n",
        "name.count(\"n\")"
      ],
      "metadata": {
        "id": "MhhWeJoJbPDS",
        "outputId": "3643d943-6e6f-446d-d73e-35ba4087f4fc",
        "colab": {
          "base_uri": "https://localhost:8080/"
        }
      },
      "execution_count": null,
      "outputs": [
        {
          "output_type": "execute_result",
          "data": {
            "text/plain": [
              "2"
            ]
          },
          "metadata": {},
          "execution_count": 6
        }
      ]
    },
    {
      "cell_type": "code",
      "source": [
        "#. Find the length of a given string without using the len() function.\n",
        "name=\"nilesh\"\n",
        "count=0\n",
        "for i in name:\n",
        "  count+=1\n",
        "  print(count)"
      ],
      "metadata": {
        "id": "gNnB5JNSbWtC",
        "outputId": "35230324-5661-4b14-f573-d75156997c33",
        "colab": {
          "base_uri": "https://localhost:8080/"
        }
      },
      "execution_count": null,
      "outputs": [
        {
          "output_type": "stream",
          "name": "stdout",
          "text": [
            "1\n",
            "2\n",
            "3\n",
            "4\n",
            "5\n",
            "6\n"
          ]
        }
      ]
    },
    {
      "cell_type": "code",
      "source": [
        "def findlen(str):\n",
        "  counter=0\n",
        "  for i in str:\n",
        "    counter+=1\n",
        "  print(counter)\n",
        "str=\"nilesh\"\n",
        "print(findlen(str))"
      ],
      "metadata": {
        "id": "FQEncZ53eNXh",
        "outputId": "2a0fa7ca-e1dd-4118-84dd-dccd864fb79a",
        "colab": {
          "base_uri": "https://localhost:8080/"
        }
      },
      "execution_count": null,
      "outputs": [
        {
          "output_type": "stream",
          "name": "stdout",
          "text": [
            "6\n",
            "None\n"
          ]
        }
      ]
    },
    {
      "cell_type": "code",
      "source": [
        "#Write a program that keeps on accepting a number from the user until\n",
        "#the user enters Zero. Display the sum and average of all the numbers.\n",
        "\n",
        "  "
      ],
      "metadata": {
        "id": "VAfL0bsEe56R"
      },
      "execution_count": null,
      "outputs": []
    },
    {
      "cell_type": "code",
      "source": [
        "#python code to check palindrom \n",
        "nam=input(\"mention string\")\n",
        "b=nam[::-1]\n",
        "if nam==b:\n",
        "  print(\"given string is plandrome\")\n",
        "else:\n",
        "  print(\"given string is not plandrome\")"
      ],
      "metadata": {
        "id": "kzkiUaGhmzi8",
        "outputId": "203d8a13-b984-4431-e36e-968cc63875e3",
        "colab": {
          "base_uri": "https://localhost:8080/"
        }
      },
      "execution_count": null,
      "outputs": [
        {
          "output_type": "stream",
          "name": "stdout",
          "text": [
            "mention stringnil\n",
            "given string is not plandrome\n"
          ]
        }
      ]
    },
    {
      "cell_type": "code",
      "source": [
        "#write a program to reverse a words from string\n",
        "name=\"nilesh thonte\"\n",
        "a=name.split()\n",
        "a.reverse()\n",
        "c=\" \".join(a)\n",
        "print(c)\n"
      ],
      "metadata": {
        "id": "Q88ry2rkniyI",
        "outputId": "864be9e8-6dc0-4b06-cffe-e852bd3b35a6",
        "colab": {
          "base_uri": "https://localhost:8080/"
        }
      },
      "execution_count": null,
      "outputs": [
        {
          "output_type": "stream",
          "name": "stdout",
          "text": [
            "thonte nilesh\n"
          ]
        }
      ]
    },
    {
      "cell_type": "code",
      "source": [
        "#Ways to remove i’th character from string in Python\n",
        "name=\"nilesh thonte\"\n",
        "a=name.replace(\"t\",\" \")\n",
        "print(a)"
      ],
      "metadata": {
        "id": "XJB_XkctsPp-",
        "outputId": "90d75697-4cea-4c1a-ce75-3562c345bb39",
        "colab": {
          "base_uri": "https://localhost:8080/"
        }
      },
      "execution_count": null,
      "outputs": [
        {
          "output_type": "stream",
          "name": "stdout",
          "text": [
            "nilesh  hon e\n"
          ]
        }
      ]
    },
    {
      "cell_type": "code",
      "source": [
        "##Ways to remove i’th character from string in Python\n",
        "name=\"nilesh thonte\"\n",
        "for i in name:\n",
        "  if i==\"t\":\n",
        "    continue\n",
        "  print(i,end=\" \")"
      ],
      "metadata": {
        "id": "bc-2Q71osaee",
        "outputId": "192785f1-5da2-4396-f209-38492ea8abf9",
        "colab": {
          "base_uri": "https://localhost:8080/"
        }
      },
      "execution_count": null,
      "outputs": [
        {
          "output_type": "stream",
          "name": "stdout",
          "text": [
            "n i l e s h   h o n e "
          ]
        }
      ]
    },
    {
      "cell_type": "code",
      "source": [
        "\n",
        "##Ways to remove i’th character from string in Python\n",
        "name=\"nilesh thonte\"\n",
        "a=name.replace(\"n\",\" \")\n",
        "print(a)"
      ],
      "metadata": {
        "id": "4auBLa9OtzZW",
        "outputId": "83cbbaf4-e7a6-435a-dfce-b20aaa37631b",
        "colab": {
          "base_uri": "https://localhost:8080/"
        }
      },
      "execution_count": null,
      "outputs": [
        {
          "output_type": "stream",
          "name": "stdout",
          "text": [
            " ilesh tho te\n"
          ]
        }
      ]
    },
    {
      "cell_type": "code",
      "source": [
        "name=\"nilesh thonte\"\n",
        "n=name[:3]\n",
        "print(n)"
      ],
      "metadata": {
        "id": "kduUrwQMv1_l",
        "outputId": "6b38efa9-2201-4d36-f6ba-f02ee7b2de7f",
        "colab": {
          "base_uri": "https://localhost:8080/"
        }
      },
      "execution_count": null,
      "outputs": [
        {
          "output_type": "stream",
          "name": "stdout",
          "text": [
            "nil\n"
          ]
        }
      ]
    },
    {
      "cell_type": "code",
      "source": [
        "name=\"nilesh thonte\"\n",
        "n=name[3:]\n",
        "print(n)"
      ],
      "metadata": {
        "id": "Mwe0PrfrwBL9",
        "outputId": "8248ac71-210e-44df-c60d-a18e9e07b591",
        "colab": {
          "base_uri": "https://localhost:8080/"
        }
      },
      "execution_count": null,
      "outputs": [
        {
          "output_type": "stream",
          "name": "stdout",
          "text": [
            "esh thonte\n"
          ]
        }
      ]
    },
    {
      "cell_type": "code",
      "source": [
        "name=\"nilesh thonte\"\n",
        "new=name[:2] + name[3:]\n",
        "print(new)"
      ],
      "metadata": {
        "id": "Zl34OVk4wT72",
        "outputId": "467a4dda-deae-48aa-ce47-61b052911f0d",
        "colab": {
          "base_uri": "https://localhost:8080/"
        }
      },
      "execution_count": null,
      "outputs": [
        {
          "output_type": "stream",
          "name": "stdout",
          "text": [
            "niesh thonte\n"
          ]
        }
      ]
    },
    {
      "cell_type": "code",
      "source": [
        "#Python – Avoid Spaces in string length\n",
        "name=\"nilesh thonte\"\n",
        "name.replace(\" \",\"\")"
      ],
      "metadata": {
        "id": "9i20GkLH1HbM",
        "outputId": "b42e021d-9f1f-43f7-c7ee-620deffee7d2",
        "colab": {
          "base_uri": "https://localhost:8080/",
          "height": 35
        }
      },
      "execution_count": null,
      "outputs": [
        {
          "output_type": "execute_result",
          "data": {
            "text/plain": [
              "'nileshthonte'"
            ],
            "application/vnd.google.colaboratory.intrinsic+json": {
              "type": "string"
            }
          },
          "metadata": {},
          "execution_count": 48
        }
      ]
    },
    {
      "cell_type": "code",
      "source": [
        "#Python program to print even length words in a string.\n",
        "name=\"nilesh\"\n",
        "a=len(name)\n",
        "for i in name:\n",
        "  if a%2==0:\n",
        "    print(\"given string is of even letters\")\n",
        "    break  \n",
        "  else:\n",
        "    print(\"not a even length string\")"
      ],
      "metadata": {
        "id": "vRvj5FDr32No",
        "outputId": "f538e3ce-664b-4bd8-b7ff-65f3a31bb48c",
        "colab": {
          "base_uri": "https://localhost:8080/"
        }
      },
      "execution_count": null,
      "outputs": [
        {
          "output_type": "stream",
          "name": "stdout",
          "text": [
            "given string is of even letters\n"
          ]
        }
      ]
    },
    {
      "cell_type": "code",
      "source": [
        "name=\"i am nilesh thonte\"\n",
        "a=name.split()\n",
        "for i in a:\n",
        "  if len(i)%2==0:\n",
        "    print(i)"
      ],
      "metadata": {
        "id": "UystaxHY5X0l",
        "outputId": "da90f627-4357-4bd7-ddb3-15069d41dc12",
        "colab": {
          "base_uri": "https://localhost:8080/"
        }
      },
      "execution_count": null,
      "outputs": [
        {
          "output_type": "stream",
          "name": "stdout",
          "text": [
            "am\n",
            "nilesh\n",
            "thonte\n"
          ]
        }
      ]
    },
    {
      "cell_type": "code",
      "source": [
        "#Python – Uppercase Half String\n",
        "name=\"nilesh thonte\"\n",
        "a=name.split(\" \")[0]\n",
        "b=name.split(\" \")[1]\n",
        "l=[]\n",
        "print(a)\n",
        "print(b)\n",
        "c=a.upper()\n",
        "print(c)\n",
        "l.append(c)\n",
        "l.append(b)\n",
        "print(l)\n",
        "\" \".join(l)\n",
        "\n",
        "\n",
        "\n",
        "  \n",
        "\n"
      ],
      "metadata": {
        "id": "xFp-rxpZ-Hrr",
        "outputId": "c1e369df-c64b-4fb5-ddf5-043997392a86",
        "colab": {
          "base_uri": "https://localhost:8080/",
          "height": 105
        }
      },
      "execution_count": null,
      "outputs": [
        {
          "output_type": "stream",
          "name": "stdout",
          "text": [
            "nilesh\n",
            "thonte\n",
            "NILESH\n",
            "['NILESH', 'thonte']\n"
          ]
        },
        {
          "output_type": "execute_result",
          "data": {
            "text/plain": [
              "'NILESH thonte'"
            ],
            "application/vnd.google.colaboratory.intrinsic+json": {
              "type": "string"
            }
          },
          "metadata": {},
          "execution_count": 94
        }
      ]
    },
    {
      "cell_type": "code",
      "source": [
        "#Python program to capitalize the first and last character of each word in a string.\n",
        "name=\"nilesh\"\n",
        "print(name)\n",
        "a=name.split()\n",
        "l=[]\n",
        "for i in a:\n",
        "  x=i[0].upper()+i[1:-1]+i[-1].upper()\n",
        "  l.append(x)\n",
        "print(l)"
      ],
      "metadata": {
        "id": "ilGVVQOuE8Bv",
        "outputId": "e3f62922-3fcc-4187-b8af-4408b640d80d",
        "colab": {
          "base_uri": "https://localhost:8080/"
        }
      },
      "execution_count": null,
      "outputs": [
        {
          "output_type": "stream",
          "name": "stdout",
          "text": [
            "nilesh\n",
            "['NilesH']\n"
          ]
        }
      ]
    },
    {
      "cell_type": "code",
      "source": [
        "#Python | Program to accept the strings which contains all vowels.\n",
        "n=\"nilesh\"\n",
        "i=set(\"aeiou\")\n",
        "for x in n:\n",
        "  if x in i:\n",
        "    i.remove(x)\n",
        "print(\"Entered String is \",n)\n",
        "if len(i)==0:\n",
        "  print(\"accept the string \")\n",
        "else:\n",
        "  print(\"reject\")\n"
      ],
      "metadata": {
        "id": "JdVUCTBPJPdn",
        "outputId": "ed2ec385-618f-4d6c-8609-12f143207859",
        "colab": {
          "base_uri": "https://localhost:8080/"
        }
      },
      "execution_count": null,
      "outputs": [
        {
          "output_type": "stream",
          "name": "stdout",
          "text": [
            "Entered String is  nilesh\n",
            "reject\n"
          ]
        }
      ]
    },
    {
      "cell_type": "code",
      "source": [
        "#Python | Count the Number of matching characters in a pair of string.\n",
        "name=\"sawaa\"\n",
        "for i in name:\n",
        "  x=name.count(i)\n",
        "  print((i,x))"
      ],
      "metadata": {
        "id": "o-ZUMo8mSxQg",
        "outputId": "87f6b91f-e981-4c6c-adf5-806a4202f262",
        "colab": {
          "base_uri": "https://localhost:8080/"
        }
      },
      "execution_count": null,
      "outputs": [
        {
          "output_type": "stream",
          "name": "stdout",
          "text": [
            "('s', 1)\n",
            "('a', 3)\n",
            "('w', 1)\n",
            "('a', 3)\n",
            "('a', 3)\n"
          ]
        }
      ]
    },
    {
      "cell_type": "code",
      "source": [
        "a=\"nilesh\"\n",
        "uniq_a=set(a)\n",
        "print(a)\n",
        "b=\"thonte\"\n",
        "uniq_b=set(b)\n",
        "print(b)\n",
        "common=uniq_a and uniq_b\n",
        "print(common)\n",
        "print(len(common))\n"
      ],
      "metadata": {
        "id": "QgPo_TP0YWN2",
        "outputId": "5820ef03-a6e9-4e57-fdf8-63e94abcae74",
        "colab": {
          "base_uri": "https://localhost:8080/"
        }
      },
      "execution_count": null,
      "outputs": [
        {
          "output_type": "stream",
          "name": "stdout",
          "text": [
            "nilesh\n",
            "thonte\n",
            "{'t', 'e', 'o', 'h', 'n'}\n",
            "5\n"
          ]
        }
      ]
    },
    {
      "cell_type": "code",
      "source": [
        "#Python program to count number of vowels using sets in given string.\n",
        "name=\"nilesh\"\n",
        "v=set(\"aeiou\")\n",
        "for i in name:\n",
        "  if i in v:\n",
        "    print(len(i))\n",
        "    print(i)\n",
        "   \n"
      ],
      "metadata": {
        "id": "W_jCvGQMZuX-",
        "outputId": "b83deb49-9f3e-4027-fb86-32c484ebd538",
        "colab": {
          "base_uri": "https://localhost:8080/"
        }
      },
      "execution_count": null,
      "outputs": [
        {
          "output_type": "stream",
          "name": "stdout",
          "text": [
            "1\n",
            "i\n",
            "1\n",
            "e\n"
          ]
        }
      ]
    },
    {
      "cell_type": "code",
      "source": [
        "def check_vow(string,vowels):\n",
        "  final=[x for x in string if x in vowels]\n",
        "  print(len(final))\n",
        "  print(final)\n",
        "\n",
        "string=\"nilesh\"\n",
        "vowels=\"AEIOUaeiou\"\n",
        "check_vow(string,vowels)\n",
        "\n"
      ],
      "metadata": {
        "id": "okyHuAzja1o2",
        "outputId": "fbcc84ca-7cdc-429a-a6af-6dc3639511ef",
        "colab": {
          "base_uri": "https://localhost:8080/"
        }
      },
      "execution_count": null,
      "outputs": [
        {
          "output_type": "stream",
          "name": "stdout",
          "text": [
            "2\n",
            "['i', 'e']\n"
          ]
        }
      ]
    },
    {
      "cell_type": "code",
      "source": [
        "#Python Program to remove all duplicates from a given string\n",
        "name=\"nileshn name name\"\n",
        "x=set(name)\n",
        "print(x)"
      ],
      "metadata": {
        "id": "cRX-ECRsdzTH",
        "outputId": "353c632d-6f5a-44da-fea7-a53baf000c72",
        "colab": {
          "base_uri": "https://localhost:8080/"
        }
      },
      "execution_count": null,
      "outputs": [
        {
          "output_type": "stream",
          "name": "stdout",
          "text": [
            "{'s', 'i', 'n', ' ', 'a', 'm', 'e', 'l', 'h'}\n"
          ]
        }
      ]
    },
    {
      "cell_type": "code",
      "source": [
        "name=\"nileshthonte\"\n",
        "p=\"\"\n",
        "for i in name:\n",
        "  if i not in p:\n",
        "    p+=i\n",
        "print(p)\n",
        "k=list(\"nileshthonte\")"
      ],
      "metadata": {
        "id": "R8u5WXpjptgC",
        "outputId": "15a6b497-abe2-472b-fa01-6886acf6639e",
        "colab": {
          "base_uri": "https://localhost:8080/"
        }
      },
      "execution_count": null,
      "outputs": [
        {
          "output_type": "stream",
          "name": "stdout",
          "text": [
            "nileshto\n"
          ]
        }
      ]
    },
    {
      "cell_type": "code",
      "source": [
        "#Python –Frequent Character in String\n",
        "name=\"nileshthonte\"\n",
        "count={}\n",
        "for i in name:\n",
        "  if i in count:\n",
        "    count[i]+=1\n",
        "  else:\n",
        "    count[i]=1\n",
        "print(\"count of char\")\n",
        "for k in count.keys():\n",
        "  print(f\"{k}\")\n",
        "\n"
      ],
      "metadata": {
        "id": "Nt95KP8tqmLJ",
        "outputId": "56af8d09-09d2-4fd7-e81b-3435c4a88048",
        "colab": {
          "base_uri": "https://localhost:8080/"
        }
      },
      "execution_count": null,
      "outputs": [
        {
          "output_type": "stream",
          "name": "stdout",
          "text": [
            "count of char\n",
            "n\n",
            "i\n",
            "l\n",
            "e\n",
            "s\n",
            "h\n",
            "t\n",
            "o\n"
          ]
        }
      ]
    },
    {
      "cell_type": "code",
      "source": [
        "!pip install matplotlib-venn"
      ],
      "metadata": {
        "id": "5GTiDHDNWO_5"
      },
      "execution_count": null,
      "outputs": []
    },
    {
      "cell_type": "code",
      "source": [
        "\n",
        "\n",
        "# You probably need to run\n",
        "\n",
        "!pip install word2number"
      ],
      "metadata": {
        "id": "j514STfIWgnK",
        "outputId": "635e8457-e267-4635-d386-4ffa26f7a407",
        "colab": {
          "base_uri": "https://localhost:8080/"
        }
      },
      "execution_count": null,
      "outputs": [
        {
          "output_type": "stream",
          "name": "stdout",
          "text": [
            "Looking in indexes: https://pypi.org/simple, https://us-python.pkg.dev/colab-wheels/public/simple/\n",
            "Collecting word2number\n",
            "  Downloading word2number-1.1.zip (9.7 kB)\n",
            "  Preparing metadata (setup.py) ... \u001b[?25l\u001b[?25hdone\n",
            "Building wheels for collected packages: word2number\n",
            "  Building wheel for word2number (setup.py) ... \u001b[?25l\u001b[?25hdone\n",
            "  Created wheel for word2number: filename=word2number-1.1-py3-none-any.whl size=5582 sha256=9343d73ad1e88849be74c481592b0a7e7c3270f2be0460429cba3cb1e8201c91\n",
            "  Stored in directory: /root/.cache/pip/wheels/cb/f3/5a/d88198fdeb46781ddd7e7f2653061af83e7adb2a076d8886d6\n",
            "Successfully built word2number\n",
            "Installing collected packages: word2number\n",
            "Successfully installed word2number-1.1\n"
          ]
        }
      ]
    },
    {
      "cell_type": "code",
      "source": [
        "#Python | Word location in String.\n",
        "name=\"nilesh thonte\"\n",
        "x=name.split()\n",
        "wrd=\"thonte\"\n",
        "res=x.index(wrd)+1\n",
        "print(res)"
      ],
      "metadata": {
        "id": "WGDiIa7-VREJ",
        "outputId": "1ae1531e-e8c5-4a10-8b84-5b86724fee20",
        "colab": {
          "base_uri": "https://localhost:8080/"
        }
      },
      "execution_count": null,
      "outputs": [
        {
          "output_type": "stream",
          "name": "stdout",
          "text": [
            "2\n"
          ]
        }
      ]
    },
    {
      "cell_type": "code",
      "source": [
        "#Python | Consecutive characters frequency\n",
        "name=\"aaabbyyttaasdfg\"\n",
        "x=name.split()\n",
        "count={}\n",
        "for i in name:\n",
        "  if i in count:\n",
        "    count[i]+=1\n",
        "  else:\n",
        "    count[i]=1\n",
        "print(count)\n",
        "for k,v in count.items():\n",
        "  print(f\"{k}={v}\")\n"
      ],
      "metadata": {
        "id": "Dv8t7mactD5n",
        "outputId": "5a586463-5cb6-45b7-a8e2-38ff8f4b8d78",
        "colab": {
          "base_uri": "https://localhost:8080/"
        }
      },
      "execution_count": null,
      "outputs": [
        {
          "output_type": "stream",
          "name": "stdout",
          "text": [
            "{'a': 5, 'b': 2, 'y': 2, 't': 2, 's': 1, 'd': 1, 'f': 1, 'g': 1}\n",
            "a=5\n",
            "b=2\n",
            "y=2\n",
            "t=2\n",
            "s=1\n",
            "d=1\n",
            "f=1\n",
            "g=1\n"
          ]
        }
      ]
    },
    {
      "cell_type": "code",
      "source": [
        "def change(numbers,words):\n",
        "  numbers={\"1\":\"one\",\"2\":\"two\",\"3\":\"three\",\"4\":\"four\",\"5\":\"five\",\"6\":\"six\",\"7\":\"seven\",\"8\":\"eight\",\"9\":\"nine\",\"0\":\"zero\"}\n",
        "  num=str(input(\"enter a number\"))\n",
        "\n",
        "  for i in num:\n",
        "    if i in numbers:\n",
        "      words=numbers.get(i)\n",
        "  return words\n",
        "calling=change(numbers=\"\",words=\"\")\n",
        "print(calling)"
      ],
      "metadata": {
        "id": "lO7efzG8zHJf",
        "outputId": "39528e88-893d-4062-8385-16dc657c8f09",
        "colab": {
          "base_uri": "https://localhost:8080/"
        }
      },
      "execution_count": null,
      "outputs": [
        {
          "output_type": "stream",
          "name": "stdout",
          "text": [
            "enter a number667\n",
            "seven\n"
          ]
        }
      ]
    },
    {
      "cell_type": "code",
      "source": [
        "#write a python program to find location of word\n",
        "name=\"nilesh thonte\"\n",
        "name.index(\"thonte\")\n"
      ],
      "metadata": {
        "colab": {
          "base_uri": "https://localhost:8080/"
        },
        "id": "bt5hv2U92o9r",
        "outputId": "c1ea5fe4-4a1c-4af3-91d1-cafd1d297cff"
      },
      "execution_count": null,
      "outputs": [
        {
          "output_type": "execute_result",
          "data": {
            "text/plain": [
              "7"
            ]
          },
          "metadata": {},
          "execution_count": 9
        }
      ]
    },
    {
      "cell_type": "code",
      "source": [
        "name=\"nilesh thonte\"\n",
        "print(\"name\")\n",
        "a=\"thonte\"\n",
        "x=name.split()\n",
        "b=x.index(a)+1\n",
        "print(b)"
      ],
      "metadata": {
        "colab": {
          "base_uri": "https://localhost:8080/"
        },
        "id": "urLOMshJ61Xz",
        "outputId": "109f2fdb-dc7a-48a5-8b7e-c1aec77235d6"
      },
      "execution_count": null,
      "outputs": [
        {
          "output_type": "stream",
          "name": "stdout",
          "text": [
            "name\n",
            "2\n"
          ]
        }
      ]
    },
    {
      "cell_type": "code",
      "source": [
        "#Write a python program to remove all the duplicates from a lis\n",
        "a=[1,23,4,4,5,3,4,5,6,7]\n",
        "b=set(a)\n",
        "print(b)"
      ],
      "metadata": {
        "id": "IVT_LbJx_EZ7",
        "outputId": "a78b4aaf-2b31-417c-e967-2012ea62394e",
        "colab": {
          "base_uri": "https://localhost:8080/"
        }
      },
      "execution_count": null,
      "outputs": [
        {
          "output_type": "stream",
          "name": "stdout",
          "text": [
            "{1, 3, 4, 5, 6, 7, 23}\n"
          ]
        }
      ]
    },
    {
      "cell_type": "code",
      "source": [
        "a=[1,23,4,4,5,3,4,5,6,7]\n",
        "l=[]\n",
        "for i in a:\n",
        "  if i not in l:\n",
        "    l.append(i)\n",
        "    print(i)"
      ],
      "metadata": {
        "id": "69LiGTgG_O17",
        "outputId": "8fdaf2e1-0473-4ba8-9235-b4ddf4aab840",
        "colab": {
          "base_uri": "https://localhost:8080/"
        }
      },
      "execution_count": null,
      "outputs": [
        {
          "output_type": "stream",
          "name": "stdout",
          "text": [
            "1\n",
            "23\n",
            "4\n",
            "5\n",
            "3\n",
            "6\n",
            "7\n"
          ]
        }
      ]
    },
    {
      "cell_type": "code",
      "source": [
        "# Write a python program to convert a string to title case without using\n",
        "# the title()\n",
        "name=\"nilesh thonte\"\n",
        "a=name.split()\n",
        "r=''\n",
        "for i in a:\n",
        "  r=r + i[0].upper() + i[1:].lower() +\" \"\n",
        "  print(r)\n",
        "   \n"
      ],
      "metadata": {
        "id": "4w7W2Cw3A1Fj",
        "outputId": "1b6e3ec4-a909-482e-9921-b47150f122a9",
        "colab": {
          "base_uri": "https://localhost:8080/"
        }
      },
      "execution_count": null,
      "outputs": [
        {
          "output_type": "stream",
          "name": "stdout",
          "text": [
            "Nilesh \n",
            "Nilesh Thonte \n"
          ]
        }
      ]
    },
    {
      "cell_type": "code",
      "source": [
        "#.Write a python program to find the max item from a list without using\n",
        "#the max function.\n",
        "a=[1,2,3,4,55,6,7,8,9,99]\n",
        "b=len(a)\n",
        "c=[]\n",
        "\n",
        "\n"
      ],
      "metadata": {
        "id": "SrrO_ShQFhSS",
        "outputId": "6b7fcef2-05b8-48c7-8842-029e4d2d94c1",
        "colab": {
          "base_uri": "https://localhost:8080/"
        }
      },
      "execution_count": null,
      "outputs": [
        {
          "output_type": "stream",
          "name": "stdout",
          "text": [
            "10\n"
          ]
        }
      ]
    },
    {
      "cell_type": "code",
      "source": [
        "#Python | Program to print duplicates from a list of integers\n",
        "a=[12,10,12,14,15,17,18,19]\n",
        "a.sort()\n",
        "print(a)\n",
        "a[1]"
      ],
      "metadata": {
        "id": "znVHc50_EdsM",
        "outputId": "95404f11-8993-40e9-d697-316402eaa754",
        "colab": {
          "base_uri": "https://localhost:8080/"
        }
      },
      "execution_count": 12,
      "outputs": [
        {
          "output_type": "stream",
          "name": "stdout",
          "text": [
            "[10, 12, 12, 14, 15, 17, 18, 19]\n"
          ]
        },
        {
          "output_type": "execute_result",
          "data": {
            "text/plain": [
              "12"
            ]
          },
          "metadata": {},
          "execution_count": 12
        }
      ]
    },
    {
      "cell_type": "code",
      "source": [
        "a=[1,2,3,4,5,6,7,8,9,0,9,8,7,6,12,34,56,78,9]\n",
        "un=[]\n",
        "dp=[]\n",
        "for i in a:\n",
        "  if i not in un:\n",
        "    un.append(i)\n",
        "  elif i not in dp:\n",
        "    dp.append(i)\n",
        "print(dp)"
      ],
      "metadata": {
        "id": "K-YM_e3jGgQR",
        "outputId": "abe44ea3-0a62-4455-da75-e814466a2389",
        "colab": {
          "base_uri": "https://localhost:8080/"
        }
      },
      "execution_count": 22,
      "outputs": [
        {
          "output_type": "stream",
          "name": "stdout",
          "text": [
            "[9, 8, 7, 6]\n"
          ]
        }
      ]
    },
    {
      "cell_type": "code",
      "source": [
        "#Python | Remove empty tuples from a list.\n",
        "a=[12,(),13,15,13,17]\n",
        "a.remove(())\n",
        "print(a)"
      ],
      "metadata": {
        "id": "rMDc3900JH0w",
        "outputId": "f82188a4-86f4-4faa-fcfa-12bd06cfe9bd",
        "colab": {
          "base_uri": "https://localhost:8080/"
        }
      },
      "execution_count": 34,
      "outputs": [
        {
          "output_type": "stream",
          "name": "stdout",
          "text": [
            "[12, 13, 15, (), 13, 17]\n"
          ]
        }
      ]
    },
    {
      "cell_type": "code",
      "source": [
        "def removes(tuples):\n",
        "  tuples=[t for t in tuples if t]\n",
        "  return tuples\n",
        "tuples=[12,13,(),15,(),13,17]\n",
        "removes(tuples)\n"
      ],
      "metadata": {
        "id": "Jzcd-JmXKXRo",
        "outputId": "8d7b6fae-5cc5-4961-f95a-99090185e403",
        "colab": {
          "base_uri": "https://localhost:8080/"
        }
      },
      "execution_count": 35,
      "outputs": [
        {
          "output_type": "execute_result",
          "data": {
            "text/plain": [
              "[12, 13, 15, 13, 17]"
            ]
          },
          "metadata": {},
          "execution_count": 35
        }
      ]
    },
    {
      "cell_type": "code",
      "source": [
        "#python program to print 1st even number.\n",
        "def remove(even):\n",
        "  even=[35,20,30,45,40]\n",
        "  for i in even:\n",
        "    if i%2==0:\n",
        "      return i\n",
        "print(remove(even))"
      ],
      "metadata": {
        "id": "ThFkYD6OMRjl",
        "outputId": "faf0359a-e0e8-4746-823e-292903e16c4e",
        "colab": {
          "base_uri": "https://localhost:8080/"
        }
      },
      "execution_count": 51,
      "outputs": [
        {
          "output_type": "stream",
          "name": "stdout",
          "text": [
            "20\n"
          ]
        }
      ]
    },
    {
      "cell_type": "code",
      "source": [
        "#Remove multiple elements from a list in Python.\n",
        "a=[12,1,3,1,2,3,4]\n",
        "b=[]\n",
        "for i in a:\n",
        "  if i%2==0:\n",
        "    b.append(i)\n",
        "print(b)\n",
        "  "
      ],
      "metadata": {
        "id": "oDeyj87mO2hl",
        "outputId": "226a0a11-39db-40d3-d45b-4f9b1513b125",
        "colab": {
          "base_uri": "https://localhost:8080/"
        }
      },
      "execution_count": 54,
      "outputs": [
        {
          "output_type": "stream",
          "name": "stdout",
          "text": [
            "[12, 2, 4]\n"
          ]
        }
      ]
    },
    {
      "cell_type": "code",
      "source": [
        "##Remove multiple elements from a list in Python.\n",
        "a=[12,23,86,13,15,17]\n",
        "b=[]\n",
        "for i in a:\n",
        "  if i%2==0:\n",
        "    a.remove(i)\n",
        "print(a)"
      ],
      "metadata": {
        "id": "RGDfK8a0VOUw",
        "outputId": "fe426109-0ebd-457f-f052-679b9874922f",
        "colab": {
          "base_uri": "https://localhost:8080/"
        }
      },
      "execution_count": 55,
      "outputs": [
        {
          "output_type": "stream",
          "name": "stdout",
          "text": [
            "[23, 13, 15, 17]\n"
          ]
        }
      ]
    },
    {
      "cell_type": "code",
      "source": [
        "a=[12,23,86,13,15,17]\n",
        "c=[i for i in a if i%2!=0]\n",
        "print(c)\n"
      ],
      "metadata": {
        "id": "AS1Ax5TbWY9R",
        "outputId": "41f92f96-eb79-4f4a-81b5-9c53cf775b61",
        "colab": {
          "base_uri": "https://localhost:8080/"
        }
      },
      "execution_count": 58,
      "outputs": [
        {
          "output_type": "stream",
          "name": "stdout",
          "text": [
            "[23, 13, 15, 17]\n"
          ]
        }
      ]
    },
    {
      "cell_type": "code",
      "source": [
        "a=[12,23,86,13,15,17]\n",
        "b=[12,23]\n",
        "c=[i for i in a if i not in b]\n",
        "print(c)"
      ],
      "metadata": {
        "id": "X_NI-JUHW5gI",
        "outputId": "fce5d58e-e4d2-418c-8ff1-e49a8278885d",
        "colab": {
          "base_uri": "https://localhost:8080/"
        }
      },
      "execution_count": 59,
      "outputs": [
        {
          "output_type": "stream",
          "name": "stdout",
          "text": [
            "[86, 13, 15, 17]\n"
          ]
        }
      ]
    },
    {
      "cell_type": "code",
      "source": [
        "#Python program to count positive and negative numbers in a list\n",
        "a=[12,-12,13,-4,-6,13,19]\n",
        "b=[]\n",
        "c=[]\n",
        "for i in a:\n",
        "  if i<0:\n",
        "    b.append(i)\n",
        "  elif i>0:\n",
        "    c.append(i)\n",
        "print(\"number of -ve)\",len(b),)\n",
        "print(\"number of +vs\",len(c))\n",
        "print(b)\n",
        "print(c)   \n"
      ],
      "metadata": {
        "id": "UBeCsLFxXtpP",
        "outputId": "99032fad-c492-4d00-db94-47206ec5692f",
        "colab": {
          "base_uri": "https://localhost:8080/"
        }
      },
      "execution_count": 70,
      "outputs": [
        {
          "output_type": "stream",
          "name": "stdout",
          "text": [
            "number of -ve) 3\n",
            "number of +vs 4\n",
            "[-12, -4, -6]\n",
            "[12, 13, 13, 19]\n"
          ]
        }
      ]
    },
    {
      "cell_type": "code",
      "source": [
        "#Python program to print all negative numbers in a range\n",
        "c=[]\n",
        "for i in range(-5,5):\n",
        "  if i<0:\n",
        "    c.append(i)\n",
        "print(c)"
      ],
      "metadata": {
        "id": "kV9MreUdbHNX",
        "outputId": "8ccc4e4f-10b4-4c0b-d495-14a43a66ff2b",
        "colab": {
          "base_uri": "https://localhost:8080/"
        }
      },
      "execution_count": 72,
      "outputs": [
        {
          "output_type": "stream",
          "name": "stdout",
          "text": [
            "[-5, -4, -3, -2, -1]\n"
          ]
        }
      ]
    }
  ]
}